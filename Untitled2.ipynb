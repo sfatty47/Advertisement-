{
  "nbformat": 4,
  "nbformat_minor": 0,
  "metadata": {
    "colab": {
      "provenance": [],
      "authorship_tag": "ABX9TyNQhmmraLAfaj8khIimXfjo",
      "include_colab_link": true
    },
    "kernelspec": {
      "name": "python3",
      "display_name": "Python 3"
    },
    "language_info": {
      "name": "python"
    }
  },
  "cells": [
    {
      "cell_type": "markdown",
      "metadata": {
        "id": "view-in-github",
        "colab_type": "text"
      },
      "source": [
        "<a href=\"https://colab.research.google.com/github/sfatty47/Advertisement-/blob/main/Untitled2.ipynb\" target=\"_parent\"><img src=\"https://colab.research.google.com/assets/colab-badge.svg\" alt=\"Open In Colab\"/></a>"
      ]
    },
    {
      "cell_type": "code",
      "execution_count": 6,
      "metadata": {
        "colab": {
          "base_uri": "https://localhost:8080/"
        },
        "id": "_2_uRhmcOOi0",
        "outputId": "ed24a11a-5681-47e8-a8b2-948a2afe487e"
      },
      "outputs": [
        {
          "output_type": "stream",
          "name": "stdout",
          "text": [
            "Requirement already satisfied: openai in /usr/local/lib/python3.10/dist-packages (1.7.1)\n",
            "Requirement already satisfied: anyio<5,>=3.5.0 in /usr/local/lib/python3.10/dist-packages (from openai) (3.7.1)\n",
            "Requirement already satisfied: distro<2,>=1.7.0 in /usr/lib/python3/dist-packages (from openai) (1.7.0)\n",
            "Requirement already satisfied: httpx<1,>=0.23.0 in /usr/local/lib/python3.10/dist-packages (from openai) (0.26.0)\n",
            "Requirement already satisfied: pydantic<3,>=1.9.0 in /usr/local/lib/python3.10/dist-packages (from openai) (1.10.13)\n",
            "Requirement already satisfied: sniffio in /usr/local/lib/python3.10/dist-packages (from openai) (1.3.0)\n",
            "Requirement already satisfied: tqdm>4 in /usr/local/lib/python3.10/dist-packages (from openai) (4.66.1)\n",
            "Requirement already satisfied: typing-extensions<5,>=4.7 in /usr/local/lib/python3.10/dist-packages (from openai) (4.9.0)\n",
            "Requirement already satisfied: idna>=2.8 in /usr/local/lib/python3.10/dist-packages (from anyio<5,>=3.5.0->openai) (3.6)\n",
            "Requirement already satisfied: exceptiongroup in /usr/local/lib/python3.10/dist-packages (from anyio<5,>=3.5.0->openai) (1.2.0)\n",
            "Requirement already satisfied: certifi in /usr/local/lib/python3.10/dist-packages (from httpx<1,>=0.23.0->openai) (2023.11.17)\n",
            "Requirement already satisfied: httpcore==1.* in /usr/local/lib/python3.10/dist-packages (from httpx<1,>=0.23.0->openai) (1.0.2)\n",
            "Requirement already satisfied: h11<0.15,>=0.13 in /usr/local/lib/python3.10/dist-packages (from httpcore==1.*->httpx<1,>=0.23.0->openai) (0.14.0)\n"
          ]
        }
      ],
      "source": [
        "pip install openai\n"
      ]
    },
    {
      "cell_type": "code",
      "source": [
        "pip install youtube-transcript-api"
      ],
      "metadata": {
        "colab": {
          "base_uri": "https://localhost:8080/"
        },
        "id": "_JliOwjlOjne",
        "outputId": "94d6f26c-553d-4438-9271-497f326fba40"
      },
      "execution_count": 7,
      "outputs": [
        {
          "output_type": "stream",
          "name": "stdout",
          "text": [
            "Collecting youtube-transcript-api\n",
            "  Downloading youtube_transcript_api-0.6.2-py3-none-any.whl (24 kB)\n",
            "Requirement already satisfied: requests in /usr/local/lib/python3.10/dist-packages (from youtube-transcript-api) (2.31.0)\n",
            "Requirement already satisfied: charset-normalizer<4,>=2 in /usr/local/lib/python3.10/dist-packages (from requests->youtube-transcript-api) (3.3.2)\n",
            "Requirement already satisfied: idna<4,>=2.5 in /usr/local/lib/python3.10/dist-packages (from requests->youtube-transcript-api) (3.6)\n",
            "Requirement already satisfied: urllib3<3,>=1.21.1 in /usr/local/lib/python3.10/dist-packages (from requests->youtube-transcript-api) (2.0.7)\n",
            "Requirement already satisfied: certifi>=2017.4.17 in /usr/local/lib/python3.10/dist-packages (from requests->youtube-transcript-api) (2023.11.17)\n",
            "Installing collected packages: youtube-transcript-api\n",
            "Successfully installed youtube-transcript-api-0.6.2\n"
          ]
        }
      ]
    },
    {
      "cell_type": "code",
      "source": [
        "from youtube_transcript_api import YouTubeTranscriptApi\n",
        "\n",
        "url = 'https://www.youtube.com/watch?v=Jo7yMox362k'\n",
        "print(url)\n",
        "\n",
        "video_id = url.replace('https://www.youtube.com/watch?v=', '')\n",
        "print(video_id)\n",
        "\n",
        "transcript = YouTubeTranscriptApi.get_transcript(video_id)\n",
        "\n",
        "print(transcript)\n",
        "\n",
        "output=''\n",
        "for x in transcript:\n",
        "  sentence = x['text']\n",
        "  output += f' {sentence}\\n'\n",
        "\n",
        "print(output)"
      ],
      "metadata": {
        "colab": {
          "base_uri": "https://localhost:8080/"
        },
        "id": "aDTCI3rdOqGo",
        "outputId": "e7587dc5-ad9d-4d65-8df7-5f26cb439b1a"
      },
      "execution_count": 9,
      "outputs": [
        {
          "output_type": "stream",
          "name": "stdout",
          "text": [
            "https://www.youtube.com/watch?v=Jo7yMox362k\n",
            "Jo7yMox362k\n",
            "[{'text': 'The jogan Experience like I grew up', 'start': 0.919, 'duration': 4.281}, {'text': 'riding dirt bikes and like I love doing', 'start': 3.36, 'duration': 3.959}, {'text': \"[\\xa0__\\xa0] I'm like but our job so dangerous\", 'start': 5.2, 'duration': 4.76}, {'text': \"already I'm like I can't afford to to do\", 'start': 7.319, 'duration': 4.761}, {'text': 'any of these other things like we were', 'start': 9.96, 'duration': 3.759}, {'text': 'up to mountains over the weekend like my', 'start': 12.08, 'duration': 3.16}, {'text': \"brother's like let's go snowboard I'm\", 'start': 13.719, 'duration': 4.161}, {'text': \"like bro like I can't dude like I want\", 'start': 15.24, 'duration': 5.199}, {'text': \"to so bad but I'm going to do all that\", 'start': 17.88, 'duration': 4.399}, {'text': \"[\\xa0__\\xa0] when I'm done fighting like you\", 'start': 20.439, 'duration': 4.84}, {'text': \"just can't stack another thing on top of\", 'start': 22.279, 'duration': 4.561}, {'text': '[\\xa0__\\xa0] like I have a I have a Ford', 'start': 25.279, 'duration': 3.361}, {'text': \"Raptor I got it all souped up I'm like\", 'start': 26.84, 'duration': 3.4}, {'text': \"that's my that's my thing you know like\", 'start': 28.64, 'duration': 3.799}, {'text': \"I got a nice truck but I can't I can't\", 'start': 30.24, 'duration': 4.4}, {'text': \"ride bikes yet I can't like we just\", 'start': 32.439, 'duration': 3.8}, {'text': \"can't afford to stack all those other\", 'start': 34.64, 'duration': 3.88}, {'text': 'things on top of our dangerous ass job', 'start': 36.239, 'duration': 3.601}, {'text': 'already did you see what Sean Strickland', 'start': 38.52, 'duration': 3.12}, {'text': 'was doing the other day shooting like', 'start': 39.84, 'duration': 3.28}, {'text': 'like Roman candles at each other a', 'start': 41.64, 'duration': 3.2}, {'text': \"firework fight yeah bro I'm not doing\", 'start': 43.12, 'duration': 4.16}, {'text': \"that three weeks before he's fighting to\", 'start': 44.84, 'duration': 6.039}, {'text': \"to he had like burns on him he's so nuts\", 'start': 47.28, 'duration': 5.68}, {'text': \"he's nuts he's so out of his [\\xa0__\\xa0]\", 'start': 50.879, 'duration': 4.52}, {'text': 'mind but that boy can', 'start': 52.96, 'duration': 5.279}, {'text': 'fight all he does is Spar he probably', 'start': 55.399, 'duration': 4.241}, {'text': \"looks at he looks at a treadmill he's\", 'start': 58.239, 'duration': 3.041}, {'text': \"like get the [\\xa0__\\xa0] out of here he's like\", 'start': 59.64, 'duration': 3.64}, {'text': \"I'm going to go Spar what's crazy is his\", 'start': 61.28, 'duration': 3.48}, {'text': 'conditioning like look at that Israel', 'start': 63.28, 'duration': 3.32}, {'text': 'adna fight this his first time fighting', 'start': 64.76, 'duration': 3.96}, {'text': \"for the title he's fighting a legend and\", 'start': 66.6, 'duration': 3.879}, {'text': \"in the fifth round he's not even\", 'start': 68.72, 'duration': 4.8}, {'text': 'breathing heavy floors him too amazing', 'start': 70.479, 'duration': 5.0}, {'text': 'amazing hits him with that onew drops', 'start': 73.52, 'duration': 5.2}, {'text': 'him pummels him afterwards and then but', 'start': 75.479, 'duration': 5.041}, {'text': \"dude he's like he's not even jumping\", 'start': 78.72, 'duration': 3.359}, {'text': \"like dirt bikes he's jumping like\", 'start': 80.52, 'duration': 3.84}, {'text': 'motorcycles in the desert like what the', 'start': 82.079, 'duration': 3.961}, {'text': \"[\\xa0__\\xa0] is this he's out of his [\\xa0__\\xa0]\", 'start': 84.36, 'duration': 3.119}, {'text': \"mind and that's also how he blew his\", 'start': 86.04, 'duration': 3.52}, {'text': 'knee apart oh oh yeah cuz he used to', 'start': 87.479, 'duration': 4.081}, {'text': \"fight 70 people don't know him and\", 'start': 89.56, 'duration': 4.96}, {'text': 'kamaro fought at um at 170 back in the', 'start': 91.56, 'duration': 5.16}, {'text': 'day kamaro put it on them pretty good', 'start': 94.52, 'duration': 3.599}, {'text': \"well I think he's one of those guys that\", 'start': 96.72, 'duration': 2.92}, {'text': \"really was cutting too much weight he's\", 'start': 98.119, 'duration': 2.68}, {'text': \"definitely he's hug that point of\", 'start': 99.64, 'duration': 3.36}, {'text': \"diminishing returns that'd be like Joey\", 'start': 100.799, 'duration': 4.28}, {'text': \"trying to cut down the 170 like you'd be\", 'start': 103.0, 'duration': 4.64}, {'text': '[\\xa0__\\xa0] just cuz you can make something', 'start': 105.079, 'duration': 4.561}, {'text': \"doesn't mean you should do it you know\", 'start': 107.64, 'duration': 4.0}, {'text': \"like it's I'm going to be interested to\", 'start': 109.64, 'duration': 3.68}, {'text': \"see that fight next weekend I can't\", 'start': 111.64, 'duration': 3.519}, {'text': 'believe see the extreme version that', 'start': 113.32, 'duration': 4.119}, {'text': \"watch that TJ documentary it's pretty\", 'start': 115.159, 'duration': 5.041}, {'text': 'heavy his fight with drus is going to be', 'start': 117.439, 'duration': 5.36}, {'text': 'uh very interesting draus is [\\xa0__\\xa0]', 'start': 120.2, 'duration': 5.64}, {'text': \"scary that and that's a guy who's so big\", 'start': 122.799, 'duration': 5.721}, {'text': 'for 85 the way he looked against uh I', 'start': 125.84, 'duration': 4.559}, {'text': \"counted I didn't give him a [\\xa0__\\xa0]\", 'start': 128.52, 'duration': 4.2}, {'text': 'chance against Robert Whitaker and boy', 'start': 130.399, 'duration': 4.681}, {'text': \"was I wrong because well also that's\", 'start': 132.72, 'duration': 3.72}, {'text': 'after he got his', 'start': 135.08, 'duration': 4.72}, {'text': \"DV which I think I mean it's a big\", 'start': 136.44, 'duration': 4.76}, {'text': 'factor being able to breathe out of your', 'start': 139.8, 'duration': 3.2}, {'text': \"nose you can't breathe you can't fight\", 'start': 141.2, 'duration': 4.48}, {'text': \"but it's also it's like drick is looks\", 'start': 143.0, 'duration': 4.84}, {'text': 'awkward when you fight he moves', 'start': 145.68, 'duration': 4.639}, {'text': 'different but that movement and that', 'start': 147.84, 'duration': 5.2}, {'text': 'awkwardness makes him difficult to time', 'start': 150.319, 'duration': 4.721}, {'text': \"it's like his timing is off and if you\", 'start': 153.04, 'duration': 3.36}, {'text': \"don't have anybody that can imitate that\", 'start': 155.04, 'duration': 3.4}, {'text': 'kind of Stutter Step motion that he does', 'start': 156.4, 'duration': 5.68}, {'text': \"yeah he f f weird yeah it's deceptively\", 'start': 158.44, 'duration': 6.48}, {'text': \"technical though deceptively it's his\", 'start': 162.08, 'duration': 5.28}, {'text': \"style you can't you can't say it's wrong\", 'start': 164.92, 'duration': 3.88}, {'text': \"you know like that's how that's how he\", 'start': 167.36, 'duration': 3.36}, {'text': \"fights and it works and he's like you\", 'start': 168.8, 'duration': 3.439}, {'text': \"can tell he's strong like I think he's\", 'start': 170.72, 'duration': 3.159}, {'text': 'going to come in and really try to like', 'start': 172.239, 'duration': 4.36}, {'text': 'put like a hard grappling Pace on Shawn', 'start': 173.879, 'duration': 4.561}, {'text': \"and but Shawn's hard to take down like\", 'start': 176.599, 'duration': 3.64}, {'text': \"you don't see many guys taking Sha down\", 'start': 178.44, 'duration': 3.4}, {'text': \"like he's not well he's a very good\", 'start': 180.239, 'duration': 3.841}, {'text': \"Grappler he's not yeah he's not easy to\", 'start': 181.84, 'duration': 3.959}, {'text': \"to take down I've talked to guys roll\", 'start': 184.08, 'duration': 3.28}, {'text': 'with him like that [\\xa0__\\xa0] is very', 'start': 185.799, 'duration': 4.041}, {'text': 'good he was out at um I think he was', 'start': 187.36, 'duration': 4.0}, {'text': 'training with jao and those guys yeah', 'start': 189.84, 'duration': 3.56}, {'text': \"yeah Jo told me yeah Joo goes dude he's\", 'start': 191.36, 'duration': 4.76}, {'text': \"[\\xa0__\\xa0] legit yeah he's really legit too\", 'start': 193.4, 'duration': 5.24}, {'text': \"like I'm sure he has good good Jiu-Jitsu\", 'start': 196.12, 'duration': 5.16}, {'text': \"yeah but that's that's a good fight well\", 'start': 198.64, 'duration': 4.04}, {'text': \"here's an interesting statistic because\", 'start': 201.28, 'duration': 3.16}, {'text': 'you know the UFC was it a mouth guard', 'start': 202.68, 'duration': 3.68}, {'text': 'that they gave you guys show how many', 'start': 204.44, 'duration': 4.2}, {'text': 'shots you take something like that yeah', 'start': 206.36, 'duration': 4.879}, {'text': 'he gets hit the Le', 'start': 208.64, 'duration': 5.799}, {'text': 'and like his defense is so', 'start': 211.239, 'duration': 5.041}, {'text': 'underappreciated that was a big factor', 'start': 214.439, 'duration': 4.52}, {'text': \"in that fight too OS just couldn't find\", 'start': 216.28, 'duration': 4.679}, {'text': \"him yeah he's like like it's like a\", 'start': 218.959, 'duration': 4.2}, {'text': 'weird like Philly shell that he does and', 'start': 220.959, 'duration': 4.121}, {'text': \"then he's lifting that like lead leg to\", 'start': 223.159, 'duration': 3.841}, {'text': \"like teep yep he's front kicking you\", 'start': 225.08, 'duration': 3.76}, {'text': 'with that lead leg Yeah and that and', 'start': 227.0, 'duration': 3.84}, {'text': \"he's just always jabbing like and it\", 'start': 228.84, 'duration': 4.239}, {'text': 'comes like you would think a jab coming', 'start': 230.84, 'duration': 4.56}, {'text': \"from down here like it'd be easier to\", 'start': 233.079, 'duration': 4.16}, {'text': \"time but it's not cuz it's coming from a\", 'start': 235.4, 'duration': 3.28}, {'text': \"like you don't [\\xa0__\\xa0] see it and then\", 'start': 237.239, 'duration': 2.761}, {'text': 'bop bop and then you say continue with', 'start': 238.68, 'duration': 4.32}, {'text': 'the jab but it [\\xa0__\\xa0] it works for him', 'start': 240.0, 'duration': 4.799}, {'text': \"it works for him amazingly I don't think\", 'start': 243.0, 'duration': 4.68}, {'text': 'Izzy was 100% in that training camp', 'start': 244.799, 'duration': 5.44}, {'text': 'either like he had that that DUI thing', 'start': 247.68, 'duration': 4.68}, {'text': 'or DWI like right before that I was like', 'start': 250.239, 'duration': 3.84}, {'text': 'two weeks before that fight and I think', 'start': 252.36, 'duration': 3.28}, {'text': 'he just thought he was going to [\\xa0__\\xa0]', 'start': 254.079, 'duration': 4.081}, {'text': \"blow Shawn out of the water and Sha's a\", 'start': 255.64, 'duration': 5.2}, {'text': 'tough [\\xa0__\\xa0] and after the aboose', 'start': 258.16, 'duration': 4.36}, {'text': 'fight you someone should have looked at', 'start': 260.84, 'duration': 3.639}, {'text': 'that fight and go looken this guy is', 'start': 262.52, 'duration': 4.48}, {'text': \"always there he's always there it's\", 'start': 264.479, 'duration': 4.72}, {'text': 'crazy how it can flip so fast like a', 'start': 267.0, 'duration': 4.639}, {'text': 'year ago he lost to Jared caner and now', 'start': 269.199, 'duration': 5.081}, {'text': \"he's [\\xa0__\\xa0] UFC champion yeah oh I mean\", 'start': 271.639, 'duration': 5.321}, {'text': 'how about the the P fight yeah he gets', 'start': 274.28, 'duration': 5.0}, {'text': 'Flatline in the first round against paja', 'start': 276.96, 'duration': 3.64}, {'text': \"and then you think this guy's not going\", 'start': 279.28, 'duration': 2.639}, {'text': \"to be the champion a year later he's the\", 'start': 280.6, 'duration': 3.64}, {'text': 'champ champ yeah and went to train with', 'start': 281.919, 'duration': 5.041}, {'text': \"P yeah that shows you how yeah he's like\", 'start': 284.24, 'duration': 4.44}, {'text': \"I'm gonna go learn from this [\\xa0__\\xa0] guy\", 'start': 286.96, 'duration': 4.44}, {'text': 'P will teach you which is even crazier', 'start': 288.68, 'duration': 4.92}, {'text': 'oh', 'start': 291.4, 'duration': 2.2}, {'text': 'yeah', 'start': 296.039, 'duration': 3.0}]\n",
            " The jogan Experience like I grew up\n",
            " riding dirt bikes and like I love doing\n",
            " [ __ ] I'm like but our job so dangerous\n",
            " already I'm like I can't afford to to do\n",
            " any of these other things like we were\n",
            " up to mountains over the weekend like my\n",
            " brother's like let's go snowboard I'm\n",
            " like bro like I can't dude like I want\n",
            " to so bad but I'm going to do all that\n",
            " [ __ ] when I'm done fighting like you\n",
            " just can't stack another thing on top of\n",
            " [ __ ] like I have a I have a Ford\n",
            " Raptor I got it all souped up I'm like\n",
            " that's my that's my thing you know like\n",
            " I got a nice truck but I can't I can't\n",
            " ride bikes yet I can't like we just\n",
            " can't afford to stack all those other\n",
            " things on top of our dangerous ass job\n",
            " already did you see what Sean Strickland\n",
            " was doing the other day shooting like\n",
            " like Roman candles at each other a\n",
            " firework fight yeah bro I'm not doing\n",
            " that three weeks before he's fighting to\n",
            " to he had like burns on him he's so nuts\n",
            " he's nuts he's so out of his [ __ ]\n",
            " mind but that boy can\n",
            " fight all he does is Spar he probably\n",
            " looks at he looks at a treadmill he's\n",
            " like get the [ __ ] out of here he's like\n",
            " I'm going to go Spar what's crazy is his\n",
            " conditioning like look at that Israel\n",
            " adna fight this his first time fighting\n",
            " for the title he's fighting a legend and\n",
            " in the fifth round he's not even\n",
            " breathing heavy floors him too amazing\n",
            " amazing hits him with that onew drops\n",
            " him pummels him afterwards and then but\n",
            " dude he's like he's not even jumping\n",
            " like dirt bikes he's jumping like\n",
            " motorcycles in the desert like what the\n",
            " [ __ ] is this he's out of his [ __ ]\n",
            " mind and that's also how he blew his\n",
            " knee apart oh oh yeah cuz he used to\n",
            " fight 70 people don't know him and\n",
            " kamaro fought at um at 170 back in the\n",
            " day kamaro put it on them pretty good\n",
            " well I think he's one of those guys that\n",
            " really was cutting too much weight he's\n",
            " definitely he's hug that point of\n",
            " diminishing returns that'd be like Joey\n",
            " trying to cut down the 170 like you'd be\n",
            " [ __ ] just cuz you can make something\n",
            " doesn't mean you should do it you know\n",
            " like it's I'm going to be interested to\n",
            " see that fight next weekend I can't\n",
            " believe see the extreme version that\n",
            " watch that TJ documentary it's pretty\n",
            " heavy his fight with drus is going to be\n",
            " uh very interesting draus is [ __ ]\n",
            " scary that and that's a guy who's so big\n",
            " for 85 the way he looked against uh I\n",
            " counted I didn't give him a [ __ ]\n",
            " chance against Robert Whitaker and boy\n",
            " was I wrong because well also that's\n",
            " after he got his\n",
            " DV which I think I mean it's a big\n",
            " factor being able to breathe out of your\n",
            " nose you can't breathe you can't fight\n",
            " but it's also it's like drick is looks\n",
            " awkward when you fight he moves\n",
            " different but that movement and that\n",
            " awkwardness makes him difficult to time\n",
            " it's like his timing is off and if you\n",
            " don't have anybody that can imitate that\n",
            " kind of Stutter Step motion that he does\n",
            " yeah he f f weird yeah it's deceptively\n",
            " technical though deceptively it's his\n",
            " style you can't you can't say it's wrong\n",
            " you know like that's how that's how he\n",
            " fights and it works and he's like you\n",
            " can tell he's strong like I think he's\n",
            " going to come in and really try to like\n",
            " put like a hard grappling Pace on Shawn\n",
            " and but Shawn's hard to take down like\n",
            " you don't see many guys taking Sha down\n",
            " like he's not well he's a very good\n",
            " Grappler he's not yeah he's not easy to\n",
            " to take down I've talked to guys roll\n",
            " with him like that [ __ ] is very\n",
            " good he was out at um I think he was\n",
            " training with jao and those guys yeah\n",
            " yeah Jo told me yeah Joo goes dude he's\n",
            " [ __ ] legit yeah he's really legit too\n",
            " like I'm sure he has good good Jiu-Jitsu\n",
            " yeah but that's that's a good fight well\n",
            " here's an interesting statistic because\n",
            " you know the UFC was it a mouth guard\n",
            " that they gave you guys show how many\n",
            " shots you take something like that yeah\n",
            " he gets hit the Le\n",
            " and like his defense is so\n",
            " underappreciated that was a big factor\n",
            " in that fight too OS just couldn't find\n",
            " him yeah he's like like it's like a\n",
            " weird like Philly shell that he does and\n",
            " then he's lifting that like lead leg to\n",
            " like teep yep he's front kicking you\n",
            " with that lead leg Yeah and that and\n",
            " he's just always jabbing like and it\n",
            " comes like you would think a jab coming\n",
            " from down here like it'd be easier to\n",
            " time but it's not cuz it's coming from a\n",
            " like you don't [ __ ] see it and then\n",
            " bop bop and then you say continue with\n",
            " the jab but it [ __ ] it works for him\n",
            " it works for him amazingly I don't think\n",
            " Izzy was 100% in that training camp\n",
            " either like he had that that DUI thing\n",
            " or DWI like right before that I was like\n",
            " two weeks before that fight and I think\n",
            " he just thought he was going to [ __ ]\n",
            " blow Shawn out of the water and Sha's a\n",
            " tough [ __ ] and after the aboose\n",
            " fight you someone should have looked at\n",
            " that fight and go looken this guy is\n",
            " always there he's always there it's\n",
            " crazy how it can flip so fast like a\n",
            " year ago he lost to Jared caner and now\n",
            " he's [ __ ] UFC champion yeah oh I mean\n",
            " how about the the P fight yeah he gets\n",
            " Flatline in the first round against paja\n",
            " and then you think this guy's not going\n",
            " to be the champion a year later he's the\n",
            " champ champ yeah and went to train with\n",
            " P yeah that shows you how yeah he's like\n",
            " I'm gonna go learn from this [ __ ] guy\n",
            " P will teach you which is even crazier\n",
            " oh\n",
            " yeah\n",
            "\n"
          ]
        }
      ]
    }
  ]
}